{
  "cells": [
    {
      "cell_type": "code",
      "execution_count": 1,
      "metadata": {
        "id": "SHHxkZI2pi0K"
      },
      "outputs": [],
      "source": [
        "import pandas as pd\n"
      ]
    },
    {
      "cell_type": "code",
      "execution_count": 2,
      "metadata": {
        "id": "VaZ0WhvPqZMX"
      },
      "outputs": [],
      "source": [
        "amz = pd.read_csv('MLOpsReviews/amazon_prime_titles.csv')\n",
        "dnp = pd.read_csv('MLOpsReviews/disney_plus_titles.csv')\n",
        "hulu = pd.read_csv('MLOpsReviews/hulu_titles.csv')\n",
        "ntx = pd.read_csv('MLOpsReviews/netflix_titles.csv')"
      ]
    },
    {
      "cell_type": "code",
      "execution_count": 3,
      "metadata": {
        "id": "h4r5s1Xcv-3I"
      },
      "outputs": [],
      "source": [
        "def plataform(data,plataform):\n",
        "  data['plataform'] = plataform\n",
        "  return data\n",
        "\n",
        "def duration_int(row,cont):\n",
        "  try:\n",
        "    if isinstance(row.duration,str):\n",
        "      aux = row.duration.split(' ')\n",
        "      if not aux[cont].isnumeric() and cont == 0:\n",
        "        return None\n",
        "      else:\n",
        "        return aux[cont]\n",
        "    else:\n",
        "      return None\n",
        "  except IndexError:\n",
        "    return None"
      ]
    },
    {
      "cell_type": "code",
      "execution_count": 4,
      "metadata": {
        "id": "89EB9Ninweid"
      },
      "outputs": [],
      "source": [
        "amz= plataform(amz,'amazon prime')\n",
        "dnp = plataform(dnp,'disney plus')\n",
        "hulu = plataform(hulu,'hulu')\n",
        "ntx =plataform(ntx,'netflix')"
      ]
    },
    {
      "cell_type": "code",
      "execution_count": 5,
      "metadata": {
        "id": "e4xprLFYxzbT"
      },
      "outputs": [],
      "source": [
        "data = pd.concat([amz,dnp,hulu,ntx]) # creacion de un unico dataset"
      ]
    },
    {
      "cell_type": "code",
      "execution_count": 6,
      "metadata": {
        "id": "jvl4Q6mg0U4u"
      },
      "outputs": [],
      "source": [
        "data = data.reset_index(drop=True) # reseteo de index"
      ]
    },
    {
      "cell_type": "code",
      "execution_count": 7,
      "metadata": {
        "id": "JdI74vi2lz0g"
      },
      "outputs": [],
      "source": [
        "data.show_id = data.apply(lambda row : row['plataform'][0] + row.show_id, axis=1) # cambio de id"
      ]
    },
    {
      "cell_type": "code",
      "execution_count": 8,
      "metadata": {
        "id": "R7Sz0t38UGNX"
      },
      "outputs": [],
      "source": [
        "data.date_added=pd.to_datetime(data.date_added) # cambio formato de fecha\n",
        "data.loc[pd.notnull(data.date_added),'date_added']= pd.to_datetime(data.loc[pd.notnull(data.date_added),'date_added']).dt.strftime('%Y-%m-%d')"
      ]
    },
    {
      "cell_type": "code",
      "execution_count": null,
      "metadata": {
        "id": "qGUZLvTdWIz2"
      },
      "outputs": [],
      "source": [
        "for row , dat in data.iterrows():\n",
        "    if isinstance(dat.rating,str):\n",
        "        if 'min' in dat.rating or 'Season' in dat.rating or 'Seasons' in dat.rating: \n",
        "          data.duration.loc[row] = dat.rating\n",
        "          data.rating.loc[row] = 'G'"
      ]
    },
    {
      "cell_type": "code",
      "execution_count": 10,
      "metadata": {
        "id": "KnsRI_60wB-G"
      },
      "outputs": [],
      "source": [
        "data.rating = data.rating.fillna('G') # elimina todos los Nan de rating"
      ]
    },
    {
      "cell_type": "code",
      "execution_count": 11,
      "metadata": {
        "id": "TTi5ZHmFA8hK"
      },
      "outputs": [],
      "source": [
        "data[\"duration_int\"] = data.apply(lambda row: duration_int(row,0),axis=1)\n",
        "data[\"duration_type\"] = data.apply(lambda row: duration_int(row,1),axis=1)"
      ]
    },
    {
      "cell_type": "code",
      "execution_count": 12,
      "metadata": {
        "id": "O4Hbtx3FCaCg"
      },
      "outputs": [],
      "source": [
        "data = data.drop(columns=['duration'],axis=1)"
      ]
    },
    {
      "cell_type": "code",
      "execution_count": 13,
      "metadata": {
        "id": "wQLUvi4HTjb6"
      },
      "outputs": [],
      "source": [
        "cambio = {'Seasons':'season',\n",
        "            'min':'min',\n",
        "            'Season' : 'season'}"
      ]
    },
    {
      "cell_type": "code",
      "execution_count": 14,
      "metadata": {
        "id": "QH0__mmETYhH"
      },
      "outputs": [],
      "source": [
        "data.duration_type = data.duration_type.map(cambio)"
      ]
    },
    {
      "cell_type": "code",
      "execution_count": 15,
      "metadata": {},
      "outputs": [],
      "source": [
        "data = data.applymap(lambda x:x.lower() if type(x) == str else x) #pasar el dataframe a minuscula"
      ]
    },
    {
      "cell_type": "code",
      "execution_count": 16,
      "metadata": {},
      "outputs": [],
      "source": [
        "change_code= {'as943':'as942', 'as5894':'as5087', 'as9037': 'as4402', 'as9059':'as7296', 'as9270' :'as7054', 'ns6706':'ns304','ns7346':'ns160', 'ns8023':'ns1271'}"
      ]
    },
    {
      "cell_type": "code",
      "execution_count": 25,
      "metadata": {},
      "outputs": [],
      "source": [
        "data.show_id = data.show_id.replace(change_code)"
      ]
    },
    {
      "cell_type": "code",
      "execution_count": 26,
      "metadata": {},
      "outputs": [],
      "source": [
        "data= data.drop_duplicates(subset=['title','release_year','plataform','duration_int'])"
      ]
    },
    {
      "cell_type": "code",
      "execution_count": 17,
      "metadata": {},
      "outputs": [],
      "source": [
        "df_rating = pd.read_csv('rating.csv')"
      ]
    },
    {
      "cell_type": "code",
      "execution_count": 29,
      "metadata": {},
      "outputs": [],
      "source": [
        "df_rating.movieId = df_rating.movieId.replace(change_code)"
      ]
    },
    {
      "cell_type": "code",
      "execution_count": 18,
      "metadata": {},
      "outputs": [
        {
          "data": {
            "text/plain": [
              "Index(['Unnamed: 0', 'userId', 'rating', 'timestamp', 'movieId'], dtype='object')"
            ]
          },
          "execution_count": 18,
          "metadata": {},
          "output_type": "execute_result"
        }
      ],
      "source": [
        "df_rating.columns"
      ]
    },
    {
      "cell_type": "code",
      "execution_count": 34,
      "metadata": {},
      "outputs": [],
      "source": [
        "grup_movie = df_rating.groupby('movieId').agg({'rating':'mean'}).round()"
      ]
    },
    {
      "cell_type": "code",
      "execution_count": 36,
      "metadata": {},
      "outputs": [
        {
          "data": {
            "text/plain": [
              "(22990, 1)"
            ]
          },
          "execution_count": 36,
          "metadata": {},
          "output_type": "execute_result"
        }
      ],
      "source": [
        "grup_movie.shape"
      ]
    },
    {
      "cell_type": "markdown",
      "metadata": {},
      "source": [
        "## Se crea una dataset nuevo con los score(promedio de las calificaciones por cada pelicula)  "
      ]
    },
    {
      "cell_type": "code",
      "execution_count": 37,
      "metadata": {},
      "outputs": [],
      "source": [
        "dataset= pd.merge(data, grup_movie ,left_on='show_id',right_on='movieId')"
      ]
    },
    {
      "cell_type": "code",
      "execution_count": 39,
      "metadata": {},
      "outputs": [],
      "source": [
        "dataset.rename(columns={'rating_y':'score'},inplace=True)"
      ]
    },
    {
      "cell_type": "code",
      "execution_count": 40,
      "metadata": {},
      "outputs": [],
      "source": [
        "#dataset.to_csv('movie_clean.csv',index=False)"
      ]
    }
  ],
  "metadata": {
    "colab": {
      "provenance": []
    },
    "kernelspec": {
      "display_name": "Python 3.10.5 64-bit",
      "language": "python",
      "name": "python3"
    },
    "language_info": {
      "codemirror_mode": {
        "name": "ipython",
        "version": 3
      },
      "file_extension": ".py",
      "mimetype": "text/x-python",
      "name": "python",
      "nbconvert_exporter": "python",
      "pygments_lexer": "ipython3",
      "version": "3.10.5"
    },
    "vscode": {
      "interpreter": {
        "hash": "c63d8c7d738c2960218a10995aedf0a7f67a49a231e71037adf0440953cdb45b"
      }
    }
  },
  "nbformat": 4,
  "nbformat_minor": 0
}
